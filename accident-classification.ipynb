{
 "cells": [
  {
   "cell_type": "code",
   "execution_count": 28,
   "id": "c22e4849",
   "metadata": {
    "_cell_guid": "b1076dfc-b9ad-4769-8c92-a6c4dae69d19",
    "_uuid": "8f2839f25d086af736a60e9eeb907d3b93b6e0e5",
    "execution": {
     "iopub.execute_input": "2022-06-06T11:22:04.284474Z",
     "iopub.status.busy": "2022-06-06T11:22:04.283842Z",
     "iopub.status.idle": "2022-06-06T11:22:10.971949Z",
     "shell.execute_reply": "2022-06-06T11:22:10.971144Z",
     "shell.execute_reply.started": "2022-06-06T10:46:28.537996Z"
    },
    "papermill": {
     "duration": 6.715324,
     "end_time": "2022-06-06T11:22:10.972115",
     "exception": false,
     "start_time": "2022-06-06T11:22:04.256791",
     "status": "completed"
    },
    "tags": []
   },
   "outputs": [
    {
     "ename": "ModuleNotFoundError",
     "evalue": "No module named 'pandas'",
     "output_type": "error",
     "traceback": [
      "\u001b[31m---------------------------------------------------------------------------\u001b[39m",
      "\u001b[31mModuleNotFoundError\u001b[39m                       Traceback (most recent call last)",
      "\u001b[36mCell\u001b[39m\u001b[36m \u001b[39m\u001b[32mIn[28]\u001b[39m\u001b[32m, line 1\u001b[39m\n\u001b[32m----> \u001b[39m\u001b[32m1\u001b[39m \u001b[38;5;28;01mimport\u001b[39;00m\u001b[38;5;250m \u001b[39m\u001b[34;01mpandas\u001b[39;00m\u001b[38;5;250m \u001b[39m\u001b[38;5;28;01mas\u001b[39;00m\u001b[38;5;250m \u001b[39m\u001b[34;01mpd\u001b[39;00m \n\u001b[32m      2\u001b[39m \u001b[38;5;28;01mimport\u001b[39;00m\u001b[38;5;250m \u001b[39m\u001b[34;01mmatplotlib\u001b[39;00m\u001b[34;01m.\u001b[39;00m\u001b[34;01mpyplot\u001b[39;00m\u001b[38;5;250m \u001b[39m\u001b[38;5;28;01mas\u001b[39;00m\u001b[38;5;250m \u001b[39m\u001b[34;01mplt\u001b[39;00m\n\u001b[32m      3\u001b[39m \u001b[38;5;28;01mimport\u001b[39;00m\u001b[38;5;250m \u001b[39m\u001b[34;01mtensorflow\u001b[39;00m\u001b[38;5;250m \u001b[39m\u001b[38;5;28;01mas\u001b[39;00m\u001b[38;5;250m \u001b[39m\u001b[34;01mtf\u001b[39;00m\n",
      "\u001b[31mModuleNotFoundError\u001b[39m: No module named 'pandas'"
     ]
    }
   ],
   "source": [
    "\n",
    "import pandas as pd \n",
    "import matplotlib.pyplot as plt\n",
    "import tensorflow as tf\n",
    "from tensorflow.keras import layers\n",
    "from time import perf_counter \n",
    "import os\n",
    "from keras.callbacks import ModelCheckpoint\n",
    "from keras.models import load_model\n",
    "from tensorflow.keras.utils import plot_model"
   ]
  },
  {
   "cell_type": "code",
   "execution_count": null,
   "id": "82bf62ed",
   "metadata": {},
   "outputs": [],
   "source": []
  },
  {
   "cell_type": "code",
   "execution_count": null,
   "id": "75070279",
   "metadata": {
    "execution": {
     "iopub.execute_input": "2022-06-06T11:22:11.006494Z",
     "iopub.status.busy": "2022-06-06T11:22:11.005804Z",
     "iopub.status.idle": "2022-06-06T11:22:11.008733Z",
     "shell.execute_reply": "2022-06-06T11:22:11.008225Z",
     "shell.execute_reply.started": "2022-06-06T10:46:31.286079Z"
    },
    "papermill": {
     "duration": 0.021664,
     "end_time": "2022-06-06T11:22:11.008874",
     "exception": false,
     "start_time": "2022-06-06T11:22:10.987210",
     "status": "completed"
    },
    "tags": []
   },
   "outputs": [],
   "source": [
    "## Defining batch specfications\n",
    "batch_size = 100\n",
    "img_height = 250\n",
    "img_width = 250"
   ]
  },
  {
   "cell_type": "code",
   "execution_count": null,
   "id": "eed3d696",
   "metadata": {
    "execution": {
     "iopub.execute_input": "2022-06-06T11:22:11.043329Z",
     "iopub.status.busy": "2022-06-06T11:22:11.042666Z",
     "iopub.status.idle": "2022-06-06T11:22:11.281141Z",
     "shell.execute_reply": "2022-06-06T11:22:11.281663Z",
     "shell.execute_reply.started": "2022-06-06T10:46:31.292379Z"
    },
    "papermill": {
     "duration": 0.258275,
     "end_time": "2022-06-06T11:22:11.281841",
     "exception": false,
     "start_time": "2022-06-06T11:22:11.023566",
     "status": "completed"
    },
    "tags": []
   },
   "outputs": [],
   "source": [
    "## loading training set\n",
    "training_data = tf.keras.preprocessing.image_dataset_from_directory(\n",
    "    'data/train',\n",
    "    seed=42,\n",
    "    image_size= (img_height, img_width),\n",
    "    batch_size=batch_size,\n",
    "    color_mode='rgb'\n",
    ")"
   ]
  },
  {
   "cell_type": "code",
   "execution_count": null,
   "id": "d52bb780",
   "metadata": {
    "execution": {
     "iopub.execute_input": "2022-06-06T11:22:11.318440Z",
     "iopub.status.busy": "2022-06-06T11:22:11.317741Z",
     "iopub.status.idle": "2022-06-06T11:22:11.437737Z",
     "shell.execute_reply": "2022-06-06T11:22:11.438464Z",
     "shell.execute_reply.started": "2022-06-06T10:46:31.868234Z"
    },
    "papermill": {
     "duration": 0.141084,
     "end_time": "2022-06-06T11:22:11.438707",
     "exception": false,
     "start_time": "2022-06-06T11:22:11.297623",
     "status": "completed"
    },
    "tags": []
   },
   "outputs": [],
   "source": [
    "## loading validation dataset\n",
    "validation_data =  tf.keras.preprocessing.image_dataset_from_directory(\n",
    "    'data/val',\n",
    "    seed=42,\n",
    "    image_size= (img_height, img_width),\n",
    "    batch_size=batch_size,\n",
    "    color_mode='rgb'\n",
    ")"
   ]
  },
  {
   "cell_type": "code",
   "execution_count": null,
   "id": "a5216ed0",
   "metadata": {
    "execution": {
     "iopub.execute_input": "2022-06-06T11:22:11.474428Z",
     "iopub.status.busy": "2022-06-06T11:22:11.473769Z",
     "iopub.status.idle": "2022-06-06T11:22:11.597522Z",
     "shell.execute_reply": "2022-06-06T11:22:11.596930Z",
     "shell.execute_reply.started": "2022-06-06T10:46:31.998384Z"
    },
    "papermill": {
     "duration": 0.142358,
     "end_time": "2022-06-06T11:22:11.597671",
     "exception": false,
     "start_time": "2022-06-06T11:22:11.455313",
     "status": "completed"
    },
    "tags": []
   },
   "outputs": [],
   "source": [
    "## loading testing dataset\n",
    "testing_data = tf.keras.preprocessing.image_dataset_from_directory(\n",
    "    'data/test',\n",
    "    seed=42,\n",
    "    image_size= (img_height, img_width),\n",
    "    batch_size=batch_size,\n",
    "    color_mode='rgb'\n",
    ")"
   ]
  },
  {
   "cell_type": "code",
   "execution_count": null,
   "id": "0f6cb045",
   "metadata": {
    "execution": {
     "iopub.execute_input": "2022-06-06T11:22:11.639051Z",
     "iopub.status.busy": "2022-06-06T11:22:11.638119Z",
     "iopub.status.idle": "2022-06-06T11:22:11.642875Z",
     "shell.execute_reply": "2022-06-06T11:22:11.642232Z",
     "shell.execute_reply.started": "2022-06-06T10:46:32.123352Z"
    },
    "papermill": {
     "duration": 0.029358,
     "end_time": "2022-06-06T11:22:11.643040",
     "exception": false,
     "start_time": "2022-06-06T11:22:11.613682",
     "status": "completed"
    },
    "tags": []
   },
   "outputs": [],
   "source": [
    "testing_data"
   ]
  },
  {
   "cell_type": "code",
   "execution_count": null,
   "id": "cca4892e",
   "metadata": {
    "execution": {
     "iopub.execute_input": "2022-06-06T11:22:11.682246Z",
     "iopub.status.busy": "2022-06-06T11:22:11.681351Z",
     "iopub.status.idle": "2022-06-06T11:22:11.685497Z",
     "shell.execute_reply": "2022-06-06T11:22:11.684898Z",
     "shell.execute_reply.started": "2022-06-06T10:46:32.135442Z"
    },
    "papermill": {
     "duration": 0.025718,
     "end_time": "2022-06-06T11:22:11.685637",
     "exception": false,
     "start_time": "2022-06-06T11:22:11.659919",
     "status": "completed"
    },
    "tags": []
   },
   "outputs": [],
   "source": [
    "class_names = training_data.class_names\n",
    "class_names"
   ]
  },
  {
   "cell_type": "code",
   "execution_count": null,
   "id": "5176cc78",
   "metadata": {
    "execution": {
     "iopub.execute_input": "2022-06-06T11:22:11.724575Z",
     "iopub.status.busy": "2022-06-06T11:22:11.723900Z",
     "iopub.status.idle": "2022-06-06T11:22:11.729144Z",
     "shell.execute_reply": "2022-06-06T11:22:11.729655Z",
     "shell.execute_reply.started": "2022-06-06T10:46:32.148210Z"
    },
    "papermill": {
     "duration": 0.027549,
     "end_time": "2022-06-06T11:22:11.729835",
     "exception": false,
     "start_time": "2022-06-06T11:22:11.702286",
     "status": "completed"
    },
    "tags": []
   },
   "outputs": [],
   "source": [
    "## Configuring dataset for performance\n",
    "AUTOTUNE = tf.data.experimental.AUTOTUNE\n",
    "training_data = training_data.cache().prefetch(buffer_size=AUTOTUNE)\n",
    "testing_data = testing_data.cache().prefetch(buffer_size=AUTOTUNE)"
   ]
  },
  {
   "cell_type": "code",
   "execution_count": null,
   "id": "82bc89e3",
   "metadata": {
    "execution": {
     "iopub.execute_input": "2022-06-06T11:22:11.768660Z",
     "iopub.status.busy": "2022-06-06T11:22:11.767963Z",
     "iopub.status.idle": "2022-06-06T11:22:11.826933Z",
     "shell.execute_reply": "2022-06-06T11:22:11.826211Z",
     "shell.execute_reply.started": "2022-06-06T10:46:32.163777Z"
    },
    "papermill": {
     "duration": 0.079717,
     "end_time": "2022-06-06T11:22:11.827076",
     "exception": false,
     "start_time": "2022-06-06T11:22:11.747359",
     "status": "completed"
    },
    "tags": []
   },
   "outputs": [],
   "source": [
    "## Defining Cnn\n",
    "model = tf.keras.models.Sequential([\n",
    "  layers.BatchNormalization(),\n",
    "  layers.Conv2D(32, 3, activation='relu'), # Conv2D(f_size, filter_size, activation) # relu, sigmoid, softmax\n",
    "  layers.MaxPooling2D(), # MaxPooling\n",
    "  layers.Conv2D(64, 3, activation='relu'),\n",
    "  layers.MaxPooling2D(),\n",
    "  layers.Conv2D(128, 3, activation='relu'),\n",
    "  layers.MaxPooling2D(),\n",
    "  layers.Conv2D(256, 3, activation='relu'),\n",
    "  layers.MaxPooling2D(),\n",
    "  layers.Flatten(),\n",
    "  layers.Dense(512, activation='relu'),\n",
    "  layers.Dense(len(class_names), activation= 'softmax')\n",
    "])\n",
    "\n",
    "model.compile(optimizer='adam',loss='sparse_categorical_crossentropy', metrics=['accuracy'])"
   ]
  },
  {
   "cell_type": "code",
   "execution_count": null,
   "id": "3c69caf5",
   "metadata": {
    "execution": {
     "iopub.execute_input": "2022-06-06T11:22:11.866838Z",
     "iopub.status.busy": "2022-06-06T11:22:11.866008Z",
     "iopub.status.idle": "2022-06-06T11:22:12.150115Z",
     "shell.execute_reply": "2022-06-06T11:22:12.149113Z",
     "shell.execute_reply.started": "2022-06-06T10:46:33.004393Z"
    },
    "papermill": {
     "duration": 0.306291,
     "end_time": "2022-06-06T11:22:12.150305",
     "exception": false,
     "start_time": "2022-06-06T11:22:11.844014",
     "status": "completed"
    },
    "tags": []
   },
   "outputs": [],
   "source": [
    "model.build((None, 250, 250, 3))\n",
    "model.summary()"
   ]
  },
  {
   "cell_type": "code",
   "execution_count": null,
   "id": "c18e9b4f",
   "metadata": {
    "execution": {
     "iopub.execute_input": "2022-06-06T11:22:12.190572Z",
     "iopub.status.busy": "2022-06-06T11:22:12.189914Z",
     "iopub.status.idle": "2022-06-06T11:22:13.448607Z",
     "shell.execute_reply": "2022-06-06T11:22:13.449131Z",
     "shell.execute_reply.started": "2022-06-06T10:46:33.449004Z"
    },
    "papermill": {
     "duration": 1.281486,
     "end_time": "2022-06-06T11:22:13.449301",
     "exception": false,
     "start_time": "2022-06-06T11:22:12.167815",
     "status": "completed"
    },
    "tags": []
   },
   "outputs": [],
   "source": [
    "plot_model(model, show_shapes=True)"
   ]
  },
  {
   "cell_type": "code",
   "execution_count": null,
   "id": "0192e7be",
   "metadata": {
    "execution": {
     "iopub.execute_input": "2022-06-06T11:22:13.493997Z",
     "iopub.status.busy": "2022-06-06T11:22:13.493302Z",
     "iopub.status.idle": "2022-06-06T11:45:04.193237Z",
     "shell.execute_reply": "2022-06-06T11:45:04.194020Z",
     "shell.execute_reply.started": "2022-06-06T10:46:34.771213Z"
    },
    "papermill": {
     "duration": 1370.724139,
     "end_time": "2022-06-06T11:45:04.194454",
     "exception": false,
     "start_time": "2022-06-06T11:22:13.470315",
     "status": "completed"
    },
    "tags": []
   },
   "outputs": [],
   "source": [
    "## lets train our CNN\n",
    "checkpoint = ModelCheckpoint(\"model_weights.h5\", monitor='val_accuracy', verbose=1, save_best_only=True, mode='max')\n",
    "callbacks_list = [checkpoint]\n",
    "history = model.fit(training_data, validation_data=validation_data, epochs = 20, callbacks=callbacks_list)"
   ]
  },
  {
   "cell_type": "code",
   "execution_count": null,
   "id": "1d0e4f18",
   "metadata": {
    "execution": {
     "iopub.execute_input": "2022-06-06T11:45:04.374139Z",
     "iopub.status.busy": "2022-06-06T11:45:04.373501Z",
     "iopub.status.idle": "2022-06-06T11:45:04.381286Z",
     "shell.execute_reply": "2022-06-06T11:45:04.381827Z",
     "shell.execute_reply.started": "2022-06-06T11:11:37.400737Z"
    },
    "papermill": {
     "duration": 0.09748,
     "end_time": "2022-06-06T11:45:04.382001",
     "exception": false,
     "start_time": "2022-06-06T11:45:04.284521",
     "status": "completed"
    },
    "tags": []
   },
   "outputs": [],
   "source": [
    "###### serialize model structure to JSON\n",
    "model_json = model.to_json()\n",
    "with open(\"model.json\", \"w\") as json_file:\n",
    "    json_file.write(model_json)"
   ]
  },
  {
   "cell_type": "code",
   "execution_count": null,
   "id": "4f688b53",
   "metadata": {
    "execution": {
     "iopub.execute_input": "2022-06-06T11:45:04.565527Z",
     "iopub.status.busy": "2022-06-06T11:45:04.564796Z",
     "iopub.status.idle": "2022-06-06T11:45:04.856344Z",
     "shell.execute_reply": "2022-06-06T11:45:04.855786Z",
     "shell.execute_reply.started": "2022-06-06T11:11:37.410351Z"
    },
    "papermill": {
     "duration": 0.389861,
     "end_time": "2022-06-06T11:45:04.856513",
     "exception": false,
     "start_time": "2022-06-06T11:45:04.466652",
     "status": "completed"
    },
    "tags": []
   },
   "outputs": [],
   "source": [
    "## stats on training data\n",
    "plt.plot(history.history['loss'], label = 'training loss')\n",
    "plt.plot(history.history['accuracy'], label = 'training accuracy')\n",
    "plt.grid(True)\n",
    "plt.legend()"
   ]
  },
  {
   "cell_type": "code",
   "execution_count": null,
   "id": "aeb2c132",
   "metadata": {
    "execution": {
     "iopub.execute_input": "2022-06-06T11:45:05.034670Z",
     "iopub.status.busy": "2022-06-06T11:45:05.033702Z",
     "iopub.status.idle": "2022-06-06T11:45:05.272214Z",
     "shell.execute_reply": "2022-06-06T11:45:05.271694Z",
     "shell.execute_reply.started": "2022-06-06T11:11:37.692730Z"
    },
    "papermill": {
     "duration": 0.329018,
     "end_time": "2022-06-06T11:45:05.272358",
     "exception": false,
     "start_time": "2022-06-06T11:45:04.943340",
     "status": "completed"
    },
    "tags": []
   },
   "outputs": [],
   "source": [
    "## stats on training data\n",
    "plt.plot(history.history['val_loss'], label = 'validation loss')\n",
    "plt.plot(history.history['val_accuracy'], label = 'validation accuracy')\n",
    "plt.grid(True)\n",
    "plt.legend()"
   ]
  },
  {
   "cell_type": "code",
   "execution_count": null,
   "id": "5c1b2041",
   "metadata": {
    "execution": {
     "iopub.execute_input": "2022-06-06T11:45:05.457449Z",
     "iopub.status.busy": "2022-06-06T11:45:05.456580Z",
     "iopub.status.idle": "2022-06-06T11:45:12.629447Z",
     "shell.execute_reply": "2022-06-06T11:45:12.628843Z",
     "shell.execute_reply.started": "2022-06-06T11:11:37.935322Z"
    },
    "papermill": {
     "duration": 7.269324,
     "end_time": "2022-06-06T11:45:12.629596",
     "exception": false,
     "start_time": "2022-06-06T11:45:05.360272",
     "status": "completed"
    },
    "tags": []
   },
   "outputs": [],
   "source": [
    "## lets vizualize results on testing data\n",
    "AccuracyVector = []\n",
    "plt.figure(figsize=(30, 30))\n",
    "for images, labels in testing_data.take(1):\n",
    "    predictions = model.predict(images)\n",
    "    predlabel = []\n",
    "    prdlbl = []\n",
    "    \n",
    "    for mem in predictions:\n",
    "        predlabel.append(class_names[np.argmax(mem)])\n",
    "        prdlbl.append(np.argmax(mem))\n",
    "    \n",
    "    AccuracyVector = np.array(prdlbl) == labels\n",
    "    for i in range(40):\n",
    "        ax = plt.subplot(10, 4, i + 1)\n",
    "        plt.imshow(images[i].numpy().astype(\"uint8\"))\n",
    "        plt.title('Pred: '+ predlabel[i]+' actl:'+class_names[labels[i]] )\n",
    "        plt.axis('off')\n",
    "        plt.grid(True)"
   ]
  },
  {
   "cell_type": "code",
   "execution_count": null,
   "id": "8663a254",
   "metadata": {
    "papermill": {
     "duration": 0.148052,
     "end_time": "2022-06-06T11:45:12.933355",
     "exception": false,
     "start_time": "2022-06-06T11:45:12.785303",
     "status": "completed"
    },
    "tags": []
   },
   "outputs": [],
   "source": []
  }
 ],
 "metadata": {
  "kernelspec": {
   "display_name": "venv",
   "language": "python",
   "name": "python3"
  },
  "language_info": {
   "codemirror_mode": {
    "name": "ipython",
    "version": 3
   },
   "file_extension": ".py",
   "mimetype": "text/x-python",
   "name": "python",
   "nbconvert_exporter": "python",
   "pygments_lexer": "ipython3",
   "version": "3.11.9"
  },
  "papermill": {
   "default_parameters": {},
   "duration": 1402.432589,
   "end_time": "2022-06-06T11:45:16.380977",
   "environment_variables": {},
   "exception": null,
   "input_path": "__notebook__.ipynb",
   "output_path": "__notebook__.ipynb",
   "parameters": {},
   "start_time": "2022-06-06T11:21:53.948388",
   "version": "2.3.3"
  }
 },
 "nbformat": 4,
 "nbformat_minor": 5
}
